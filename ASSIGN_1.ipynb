{
  "nbformat": 4,
  "nbformat_minor": 0,
  "metadata": {
    "colab": {
      "name": "ASSIGN 1.ipynb",
      "provenance": [],
      "collapsed_sections": []
    },
    "kernelspec": {
      "name": "python3",
      "display_name": "Python 3"
    }
  },
  "cells": [
    {
      "cell_type": "code",
      "metadata": {
        "id": "9UB7265WeeuR",
        "outputId": "d39baa35-bc20-465d-fe45-995bb2a5a43b",
        "colab": {
          "base_uri": "https://localhost:8080/"
        }
      },
      "source": [
        "# ANSWER 2\n",
        "\n",
        "print(\"LETS UPGRADE\")"
      ],
      "execution_count": null,
      "outputs": [
        {
          "output_type": "stream",
          "text": [
            "LETS UPGRADE\n"
          ],
          "name": "stdout"
        }
      ]
    },
    {
      "cell_type": "code",
      "metadata": {
        "id": "xp1YJnuOewT_",
        "outputId": "a4e7ed23-27ac-4bb8-ea90-8912809b2ad7",
        "colab": {
          "base_uri": "https://localhost:8080/"
        }
      },
      "source": [
        "# ANSWER 3\n",
        "\n",
        "cp = float(input()) # cost price from user\n",
        "sp = float(input()) # selling price from user\n",
        "\n",
        "if (sp-cp>0):\n",
        "  print('\"Profit\"')\n",
        "elif (sp-cp<0):\n",
        "  print('\"Loss\"')\n",
        "else:\n",
        "  print('\"Neither\"')\n",
        "\n"
      ],
      "execution_count": null,
      "outputs": [
        {
          "output_type": "stream",
          "text": [
            "20\n",
            "30\n",
            "\"Profit\"\n"
          ],
          "name": "stdout"
        }
      ]
    },
    {
      "cell_type": "code",
      "metadata": {
        "id": "meZQCxxthL50",
        "outputId": "971b608c-9de3-4bd9-db06-252f907f8968",
        "colab": {
          "base_uri": "https://localhost:8080/"
        }
      },
      "source": [
        "# ANSWER 4\n",
        "\n",
        "euro = int(input()) # amount in euros from user\n",
        "result = euro * 80\n",
        "print(result) "
      ],
      "execution_count": null,
      "outputs": [
        {
          "output_type": "stream",
          "text": [
            "18\n",
            "1440\n"
          ],
          "name": "stdout"
        }
      ]
    }
  ]
}